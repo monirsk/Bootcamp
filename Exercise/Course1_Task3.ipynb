{
 "cells": [
  {
   "cell_type": "markdown",
   "id": "f9225864",
   "metadata": {},
   "source": [
    "1. Keep the first, middle, and last characters of an input string."
   ]
  },
  {
   "cell_type": "code",
   "execution_count": 3,
   "id": "7297a31f",
   "metadata": {},
   "outputs": [
    {
     "name": "stdout",
     "output_type": "stream",
     "text": [
      "Enter your string : Ghosh\n",
      "Goh\n"
     ]
    }
   ],
   "source": [
    "def F_M_L(a):\n",
    "    i = 0\n",
    "    j= len(a)\n",
    "    k= int(j/2)\n",
    "    ss=a[i]+a[k]+a[j-1]\n",
    "    print(ss)\n",
    "\n",
    "s = input(\"Enter your string : \")\n",
    "F_M_L(s)\n"
   ]
  },
  {
   "cell_type": "markdown",
   "id": "66e58993",
   "metadata": {},
   "source": [
    "\n"
   ]
  },
  {
   "cell_type": "markdown",
   "id": "fb499098",
   "metadata": {},
   "source": [
    "2. Arrange string characters such that lowercase letters should come first."
   ]
  },
  {
   "cell_type": "code",
   "execution_count": 4,
   "id": "bc2c9559",
   "metadata": {},
   "outputs": [
    {
     "name": "stdout",
     "output_type": "stream",
     "text": [
      "Enter your string : AsshgjTgY\n",
      "gjghssATY\n"
     ]
    }
   ],
   "source": [
    "def Arange_lowerCase_first(str):\n",
    "    str2=''\n",
    "    for i in range(len(str)):\n",
    "        if str[i].islower():\n",
    "            str2=str[i]+str2\n",
    "        else:\n",
    "            str2=str2+str[i]\n",
    "    print(str2)        \n",
    "    \n",
    "\n",
    "str = input('Enter your string : ')\n",
    "Arange_lowerCase_first(str)\n"
   ]
  },
  {
   "cell_type": "markdown",
   "id": "8f2fc319",
   "metadata": {},
   "source": [
    "3. Count all letters, digits, and special symbols from a given string."
   ]
  },
  {
   "cell_type": "code",
   "execution_count": 5,
   "id": "aa9313b8",
   "metadata": {},
   "outputs": [
    {
     "name": "stdout",
     "output_type": "stream",
     "text": [
      "Enter your string : ABG34&&***\n",
      "Character :  3 \n",
      "Digit :  2 \n",
      "Special :  5\n"
     ]
    }
   ],
   "source": [
    "def Count(str1):\n",
    "    charc=0\n",
    "    dig=0\n",
    "    special=0\n",
    "    for i in range(len(str1)):\n",
    "        if str1[i].isalpha():\n",
    "            charc=charc+1\n",
    "        elif str1[i].isdigit():\n",
    "            dig=dig+1\n",
    "        else :\n",
    "            special+=1\n",
    "    print('Character : ',charc,'\\nDigit : ',dig,'\\nSpecial : ',special) \n",
    "\n",
    "str1 = input('Enter your string : ')\n",
    "Count(str1)\n"
   ]
  },
  {
   "cell_type": "markdown",
   "id": "b79f949a",
   "metadata": {},
   "source": [
    "4. Split a string on hyphens\n",
    "\n"
   ]
  },
  {
   "cell_type": "code",
   "execution_count": 6,
   "id": "6c86fc36",
   "metadata": {},
   "outputs": [
    {
     "name": "stdout",
     "output_type": "stream",
     "text": [
      "Enter your string : I-am-Khandker\n",
      "I\n",
      "am\n",
      "Khandker\n"
     ]
    }
   ],
   "source": [
    "def Split(str3):\n",
    "    s = str3.split('-')\n",
    "    \n",
    "    for i in s:\n",
    "        print(i)\n",
    "\n",
    "str3 = input('Enter your string : ')\n",
    "Split(str3)\n"
   ]
  },
  {
   "cell_type": "markdown",
   "id": "fdafc9f1",
   "metadata": {},
   "source": [
    "5. Reverse a given string."
   ]
  },
  {
   "cell_type": "code",
   "execution_count": 7,
   "id": "11e8b764",
   "metadata": {},
   "outputs": [
    {
     "name": "stdout",
     "output_type": "stream",
     "text": [
      "Enter your string : Moniruzzaman\n",
      "namazzurinoM\n"
     ]
    }
   ],
   "source": [
    "def Reverse(str4):\n",
    "    ss = str4[::-1]\n",
    "    print(ss)\n",
    "\n",
    "str4 = input('Enter your string : ')\n",
    "Reverse(str4)\n"
   ]
  },
  {
   "cell_type": "markdown",
   "id": "bdfe907e",
   "metadata": {},
   "source": [
    "6. Create a function that can add unlimited numbers (arguments)"
   ]
  },
  {
   "cell_type": "code",
   "execution_count": null,
   "id": "0bb09d85",
   "metadata": {},
   "outputs": [],
   "source": []
  }
 ],
 "metadata": {
  "kernelspec": {
   "display_name": "Python 3 (ipykernel)",
   "language": "python",
   "name": "python3"
  },
  "language_info": {
   "codemirror_mode": {
    "name": "ipython",
    "version": 3
   },
   "file_extension": ".py",
   "mimetype": "text/x-python",
   "name": "python",
   "nbconvert_exporter": "python",
   "pygments_lexer": "ipython3",
   "version": "3.9.13"
  }
 },
 "nbformat": 4,
 "nbformat_minor": 5
}
