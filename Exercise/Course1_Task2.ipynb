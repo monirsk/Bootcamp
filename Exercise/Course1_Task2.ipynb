{
 "cells": [
  {
   "cell_type": "markdown",
   "id": "0e898790",
   "metadata": {},
   "source": [
    "Problem 1: Display float number with 2 decimal places using print()."
   ]
  },
  {
   "cell_type": "code",
   "execution_count": 3,
   "id": "59b12ab7",
   "metadata": {},
   "outputs": [
    {
     "name": "stdout",
     "output_type": "stream",
     "text": [
      "The number is :  345.98987\n",
      "The number with 2 decimal places :  345.99\n"
     ]
    }
   ],
   "source": [
    "n = 345.98987\n",
    "\n",
    "print(\"The number is : \",n)\n",
    "\n",
    "print(\"The number with 2 decimal places : \",round(n,2))"
   ]
  },
  {
   "cell_type": "markdown",
   "id": "cd6c7632",
   "metadata": {},
   "source": [
    "Problem 2 : Accept a list of float numbers as input from the user and display that"
   ]
  },
  {
   "cell_type": "code",
   "execution_count": 9,
   "id": "230b4feb",
   "metadata": {},
   "outputs": [
    {
     "name": "stdout",
     "output_type": "stream",
     "text": [
      "Enter float numbers : 11.33 5.66 9.89\n",
      "[11.33, 5.66, 9.89]\n"
     ]
    }
   ],
   "source": [
    "input1  = input('Enter float numbers : ')\n",
    "list1 = input1.split()\n",
    "\n",
    "for i in range(len(list1)):\n",
    "    list1[i] = float(list1[i])\n",
    "\n",
    "print(list1)    "
   ]
  },
  {
   "cell_type": "markdown",
   "id": "07e518ea",
   "metadata": {},
   "source": [
    "Problem 3: Print the First n natural numbers using a while loop."
   ]
  },
  {
   "cell_type": "code",
   "execution_count": 10,
   "id": "009f04a7",
   "metadata": {},
   "outputs": [
    {
     "name": "stdout",
     "output_type": "stream",
     "text": [
      "Enter your n : 5\n",
      "5\n",
      "4\n",
      "3\n",
      "2\n",
      "1\n"
     ]
    }
   ],
   "source": [
    "n = int(input(\"Enter your n : \"))\n",
    "\n",
    "while n :\n",
    "    print(n)\n",
    "    n=n-1"
   ]
  },
  {
   "cell_type": "markdown",
   "id": "afcf8c7a",
   "metadata": {},
   "source": [
    "Problem 4. Display numbers from -n to -1 using for loop."
   ]
  },
  {
   "cell_type": "code",
   "execution_count": 15,
   "id": "ef15bd02",
   "metadata": {},
   "outputs": [
    {
     "name": "stdout",
     "output_type": "stream",
     "text": [
      "Enter your n : 3\n",
      "-3\n",
      "-2\n",
      "-1\n"
     ]
    }
   ],
   "source": [
    "n = int(input(\"Enter your n : \"))\n",
    "\n",
    "for i in range(n):\n",
    "    print(-1*n)\n",
    "    n=n-1"
   ]
  },
  {
   "cell_type": "markdown",
   "id": "ebf8d18d",
   "metadata": {},
   "source": [
    "Problem 5: Count the total number of digits in a number."
   ]
  },
  {
   "cell_type": "code",
   "execution_count": 19,
   "id": "cda5021a",
   "metadata": {},
   "outputs": [
    {
     "name": "stdout",
     "output_type": "stream",
     "text": [
      "Enter your number : 98765\n",
      "NUmber of digit :  5\n"
     ]
    }
   ],
   "source": [
    "num  = int(input(\"Enter your number : \"))\n",
    "\n",
    "count = 0\n",
    "while num:\n",
    "    num=num//10\n",
    "    count+=1\n",
    "    \n",
    "print(\"NUmber of digit : \",count)   "
   ]
  },
  {
   "cell_type": "markdown",
   "id": "d1dedc0f",
   "metadata": {},
   "source": [
    "Problem 6: Find the factorial of a given number."
   ]
  },
  {
   "cell_type": "code",
   "execution_count": 21,
   "id": "8089499e",
   "metadata": {},
   "outputs": [
    {
     "name": "stdout",
     "output_type": "stream",
     "text": [
      "Enter your number : 3\n",
      "6\n"
     ]
    }
   ],
   "source": [
    "num  = int(input(\"Enter your number : \"))\n",
    "fact = 1\n",
    "while num!=0:\n",
    "    fact*=num\n",
    "    num-=1\n",
    "print(fact)    "
   ]
  },
  {
   "cell_type": "markdown",
   "id": "7250bdf7",
   "metadata": {},
   "source": [
    "Problem 7. Print a pattern"
   ]
  },
  {
   "cell_type": "code",
   "execution_count": 32,
   "id": "0c26bb33",
   "metadata": {},
   "outputs": [
    {
     "name": "stdout",
     "output_type": "stream",
     "text": [
      "1 \n",
      "\n",
      "1 2 \n",
      "\n",
      "1 2 3 \n",
      "\n",
      "1 2 3 4 \n",
      "\n",
      "1 2 3 4 5 \n",
      "\n"
     ]
    }
   ],
   "source": [
    "n = 5\n",
    "\n",
    "for i in range(1,n+1):\n",
    "    for j in range(1,n+1):\n",
    "        if(j<=i):\n",
    "            print(j, end = ' ')\n",
    "    print('\\n')            "
   ]
  },
  {
   "cell_type": "code",
   "execution_count": null,
   "id": "63cbbfa7",
   "metadata": {},
   "outputs": [],
   "source": []
  }
 ],
 "metadata": {
  "kernelspec": {
   "display_name": "Python 3 (ipykernel)",
   "language": "python",
   "name": "python3"
  },
  "language_info": {
   "codemirror_mode": {
    "name": "ipython",
    "version": 3
   },
   "file_extension": ".py",
   "mimetype": "text/x-python",
   "name": "python",
   "nbconvert_exporter": "python",
   "pygments_lexer": "ipython3",
   "version": "3.9.13"
  }
 },
 "nbformat": 4,
 "nbformat_minor": 5
}
