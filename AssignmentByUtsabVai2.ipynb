{
 "cells": [
  {
   "cell_type": "markdown",
   "id": "f1169e76",
   "metadata": {},
   "source": [
    "Task 7"
   ]
  },
  {
   "cell_type": "code",
   "execution_count": 2,
   "id": "2decd9a4",
   "metadata": {},
   "outputs": [
    {
     "name": "stdout",
     "output_type": "stream",
     "text": [
      "   ID    Name            Email   Address\n",
      "0   1    Abir   abir@gmail.com     Dhaka\n",
      "1   2  Kabbir  sabir@gmail.com  Rajshahi\n",
      "2   3  Gabbir  jabir@gmail.com     Dhaka\n",
      "3   4  Dabbir  habir@gmail.com   Rangpur\n",
      "4   5  Jabbir  gabir@gmail.com  Kurigram\n",
      "\n",
      "\n",
      "\n",
      "    Address\n",
      "1  Rajshahi\n"
     ]
    }
   ],
   "source": [
    "import pandas as pd\n",
    "df= pd.read_csv('wine.csv')\n",
    "print(df.head())\n",
    "print('\\n\\n')\n",
    "print(df.iloc[1:2,-1:])"
   ]
  },
  {
   "cell_type": "code",
   "execution_count": null,
   "id": "09d96513",
   "metadata": {},
   "outputs": [],
   "source": []
  }
 ],
 "metadata": {
  "kernelspec": {
   "display_name": "Python 3 (ipykernel)",
   "language": "python",
   "name": "python3"
  },
  "language_info": {
   "codemirror_mode": {
    "name": "ipython",
    "version": 3
   },
   "file_extension": ".py",
   "mimetype": "text/x-python",
   "name": "python",
   "nbconvert_exporter": "python",
   "pygments_lexer": "ipython3",
   "version": "3.9.13"
  }
 },
 "nbformat": 4,
 "nbformat_minor": 5
}
