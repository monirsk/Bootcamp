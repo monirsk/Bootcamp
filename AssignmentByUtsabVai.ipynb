{
 "cells": [
  {
   "cell_type": "markdown",
   "id": "bff22097",
   "metadata": {},
   "source": [
    "Task 1\n"
   ]
  },
  {
   "cell_type": "code",
   "execution_count": 4,
   "id": "72420a58",
   "metadata": {},
   "outputs": [
    {
     "name": "stdout",
     "output_type": "stream",
     "text": [
      "Enter radius of the circle : \n",
      "3\n",
      "Area of circle :  28.2744\n"
     ]
    }
   ],
   "source": [
    "def area_of_circle(r):\n",
    "    return 3.1416*r*r\n",
    "\n",
    "print(\"Enter radius of the circle : \")\n",
    "radius = float(input())\n",
    "area = area_of_circle(radius)\n",
    "\n",
    "print(\"Area of circle : \", area)"
   ]
  },
  {
   "cell_type": "markdown",
   "id": "4ce0979a",
   "metadata": {},
   "source": [
    "Task 2\n"
   ]
  },
  {
   "cell_type": "code",
   "execution_count": 5,
   "id": "106e1330",
   "metadata": {},
   "outputs": [
    {
     "name": "stdout",
     "output_type": "stream",
     "text": [
      "Enter 1st num  : 10\n",
      "Enter 2nd num : 20\n",
      "Enter 3rd num  : 30\n",
      "The largest number is :  30\n"
     ]
    }
   ],
   "source": [
    "def largest(a,b,c):\n",
    "    if a > b and a > c:\n",
    "        return a\n",
    "    if b > a and b > c:\n",
    "        return b\n",
    "    if c > a and c > b:\n",
    "        return c\n",
    "\n",
    "a1 = int(input('Enter 1st num  : '))\n",
    "b2 = int(input('Enter 2nd num : '))\n",
    "c3 = int(input('Enter 3rd num  : '))\n",
    "\n",
    "large = largest(a1,b2,c3)\n",
    "print(\"The largest number is : \", large)"
   ]
  },
  {
   "cell_type": "markdown",
   "id": "d3dc6e57",
   "metadata": {},
   "source": [
    "Task 3"
   ]
  },
  {
   "cell_type": "code",
   "execution_count": 6,
   "id": "37c84fd9",
   "metadata": {},
   "outputs": [
    {
     "name": "stdout",
     "output_type": "stream",
     "text": [
      "Enter a string : ahiozxcAU\n",
      "101100011\n"
     ]
    }
   ],
   "source": [
    "def strToBinary(s):\n",
    "    ns = []\n",
    "    sl = list(s)\n",
    "    for i in sl:\n",
    "        if i=='a' or i =='e' or i=='i' or i =='o' or i=='u' or i =='A'or i=='E' or i =='I' or i=='O' or i=='U':\n",
    "            ns.append('1')\n",
    "        else:\n",
    "            ns.append('0')\n",
    "    return('' .join(ns))\n",
    "\n",
    "strr = input(\"Enter a string : \")\n",
    "print(strToBinary(strr))\n"
   ]
  },
  {
   "cell_type": "markdown",
   "id": "4245739d",
   "metadata": {},
   "source": [
    "Task 4"
   ]
  },
  {
   "cell_type": "code",
   "execution_count": 7,
   "id": "111eb59a",
   "metadata": {},
   "outputs": [
    {
     "name": "stdout",
     "output_type": "stream",
     "text": [
      "Select operation.\n",
      "1.ADD\n",
      "2.SUB\n",
      "3.MUL\n",
      "4.DIV\n",
      "\n",
      "Enter your choice : 1\n",
      "Enter first number: 10\n",
      "Enter second number: 5\n",
      "10.0 + 5.0 = 15.0\n",
      "Want to quit calculating ? (yes/no): no\n",
      "Enter your choice : 2\n",
      "Enter first number: 9\n",
      "Enter second number: 4\n",
      "9.0 - 4.0 = 5.0\n",
      "Want to quit calculating ? (yes/no): yes\n"
     ]
    }
   ],
   "source": [
    "def ADD(x, y):\n",
    "    return x + y\n",
    "\n",
    "def SUB(x, y):\n",
    "    return x - y\n",
    "\n",
    "def MUL(x, y):\n",
    "    return x * y\n",
    "\n",
    "def DIV(x, y):\n",
    "    return x / y\n",
    "\n",
    "\n",
    "print(\"Select operation.\")\n",
    "print(\"1.ADD\")\n",
    "print(\"2.SUB\")\n",
    "print(\"3.MUL\")\n",
    "print(\"4.DIV\\n\")\n",
    "\n",
    "while True:\n",
    "    choice = input(\"Enter your choice : \")\n",
    "\n",
    "    num1 = float(input(\"Enter first number: \"))\n",
    "    num2 = float(input(\"Enter second number: \"))\n",
    "\n",
    "\n",
    "    if choice == '1':\n",
    "        print(num1, \"+\", num2, \"=\", ADD(num1, num2))\n",
    "\n",
    "    elif choice == '2':\n",
    "        print(num1, \"-\", num2, \"=\", SUB(num1, num2))\n",
    "\n",
    "    elif choice == '3':\n",
    "        print(num1, \"*\", num2, \"=\", MUL(num1, num2))\n",
    "\n",
    "    elif choice == '4':\n",
    "        print(num1, \"/\", num2, \"=\", DIV(num1, num2))\n",
    "        \n",
    "\n",
    "    Quit = input(\"Want to quit calculating ? (yes/no): \")\n",
    "    if Quit == \"yes\":\n",
    "          break\n"
   ]
  },
  {
   "cell_type": "markdown",
   "id": "b7341a55",
   "metadata": {},
   "source": [
    "Task 5\n"
   ]
  },
  {
   "cell_type": "code",
   "execution_count": 8,
   "id": "948a30e3",
   "metadata": {},
   "outputs": [
    {
     "name": "stdout",
     "output_type": "stream",
     "text": [
      "Enter your string: ABS\n",
      "ABSABS\n"
     ]
    }
   ],
   "source": [
    "str  =  input(\"Enter your string: \")\n",
    "print(str+str)"
   ]
  },
  {
   "cell_type": "markdown",
   "id": "4ffacb27",
   "metadata": {},
   "source": [
    "Task 6.1 (filter)\n"
   ]
  },
  {
   "cell_type": "code",
   "execution_count": 9,
   "id": "3984c5c5",
   "metadata": {},
   "outputs": [
    {
     "name": "stdout",
     "output_type": "stream",
     "text": [
      "Enter number of elements : 5\n",
      "shihab\n",
      "Pandas\n",
      "uiP\n",
      "Monir\n",
      "DPK\n",
      "['Pandas', 'uiP', 'DPK']\n"
     ]
    }
   ],
   "source": [
    "arr = []\n",
    "n = int(input(\"Enter number of elements : \"))\n",
    "\n",
    "for i in range(0, n):\n",
    "    str = input()\n",
    "    arr.append(str) \n",
    "      \n",
    "ans = filter(lambda s: 'P' in s,arr)\n",
    "print(list(ans))"
   ]
  },
  {
   "cell_type": "markdown",
   "id": "c888813e",
   "metadata": {},
   "source": [
    "Task 6.2 (map)"
   ]
  },
  {
   "cell_type": "code",
   "execution_count": 10,
   "id": "b39ef2a8",
   "metadata": {},
   "outputs": [
    {
     "name": "stdout",
     "output_type": "stream",
     "text": [
      "Enter number of elements : 3\n",
      "Shihab\n",
      "MOnir\n",
      "Panda\n",
      "['ShihabP', 'MOnirP', 'Panda']\n"
     ]
    }
   ],
   "source": [
    "Arr = []\n",
    "N = int(input(\"Enter number of elements : \"))\n",
    "\n",
    "for i in range(0, N):\n",
    "    strr = input()\n",
    "    Arr.append(strr) \n",
    "\n",
    "def update(ss):\n",
    "    if 'P' in ss:\n",
    "        return ss\n",
    "    else:\n",
    "        ss=ss+'P'\n",
    "        return ss    \n",
    "    \n",
    "\n",
    "ans2 =  map(update,Arr)\n",
    "print(list(ans2))"
   ]
  },
  {
   "cell_type": "markdown",
   "id": "bf3a1e6b",
   "metadata": {},
   "source": [
    "Task 6.3 (Reduce)\n"
   ]
  },
  {
   "cell_type": "code",
   "execution_count": 11,
   "id": "ace3999d",
   "metadata": {},
   "outputs": [
    {
     "name": "stdout",
     "output_type": "stream",
     "text": [
      "60\n"
     ]
    }
   ],
   "source": [
    "from functools import reduce\n",
    "ARR = [10,20,30]\n",
    "\n",
    "def Add(a,b):\n",
    "    return a+b\n",
    "\n",
    "ans3 = reduce(Add,ARR)\n",
    "print(ans3)"
   ]
  },
  {
   "cell_type": "code",
   "execution_count": null,
   "id": "397d61cf",
   "metadata": {},
   "outputs": [],
   "source": []
  }
 ],
 "metadata": {
  "kernelspec": {
   "display_name": "Python 3 (ipykernel)",
   "language": "python",
   "name": "python3"
  },
  "language_info": {
   "codemirror_mode": {
    "name": "ipython",
    "version": 3
   },
   "file_extension": ".py",
   "mimetype": "text/x-python",
   "name": "python",
   "nbconvert_exporter": "python",
   "pygments_lexer": "ipython3",
   "version": "3.9.13"
  }
 },
 "nbformat": 4,
 "nbformat_minor": 5
}
