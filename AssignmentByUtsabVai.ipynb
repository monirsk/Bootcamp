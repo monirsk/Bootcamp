{
 "cells": [
  {
   "cell_type": "markdown",
   "id": "611122fa",
   "metadata": {},
   "source": [
    "Task 1\n"
   ]
  },
  {
   "cell_type": "code",
   "execution_count": 4,
   "id": "d02c5330",
   "metadata": {},
   "outputs": [
    {
     "name": "stdout",
     "output_type": "stream",
     "text": [
      "Enter radius of the circle : \n",
      "3\n",
      "Area of circle :  28.2744\n"
     ]
    }
   ],
   "source": [
    "def area_of_circle(r):\n",
    "    return 3.1416*r*r\n",
    "\n",
    "print(\"Enter radius of the circle : \")\n",
    "radius = float(input())\n",
    "area = area_of_circle(radius)\n",
    "\n",
    "print(\"Area of circle : \", area)"
   ]
  },
  {
   "cell_type": "code",
   "execution_count": null,
   "id": "af191222",
   "metadata": {},
   "outputs": [],
   "source": []
  }
 ],
 "metadata": {
  "kernelspec": {
   "display_name": "Python 3 (ipykernel)",
   "language": "python",
   "name": "python3"
  },
  "language_info": {
   "codemirror_mode": {
    "name": "ipython",
    "version": 3
   },
   "file_extension": ".py",
   "mimetype": "text/x-python",
   "name": "python",
   "nbconvert_exporter": "python",
   "pygments_lexer": "ipython3",
   "version": "3.9.13"
  }
 },
 "nbformat": 4,
 "nbformat_minor": 5
}
